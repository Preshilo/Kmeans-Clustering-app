{
 "cells": [
  {
   "cell_type": "code",
   "execution_count": 1,
   "id": "37923a4b",
   "metadata": {},
   "outputs": [],
   "source": [
    "import os\n",
    "import pandas as pd\n",
    "from warnings import simplefilter\n",
    "import pickle"
   ]
  },
  {
   "cell_type": "code",
   "execution_count": 2,
   "id": "9edfd122",
   "metadata": {},
   "outputs": [],
   "source": [
    "os.chdir('/home/presh/Downloads/Electricity_consumption/hhblock_dataset')"
   ]
  },
  {
   "cell_type": "code",
   "execution_count": 3,
   "id": "1c04ccf4",
   "metadata": {},
   "outputs": [],
   "source": [
    "simplefilter(action='ignore', category=FutureWarning)\n",
    "ect_data0 = pd.read_csv('block_0.csv')\n",
    "ect_data0 = ect_data0.groupby('LCLid').median()\n",
    "for i in range(1, 20):\n",
    "    ect_data_i = pd.read_csv(f'block_{i}.csv') \n",
    "    ect_data0 = pd.concat([ect_data0,  ect_data_i.groupby('LCLid').median()], ignore_index=False, axis=0)"
   ]
  },
  {
   "cell_type": "code",
   "execution_count": 4,
   "id": "acc27cfa",
   "metadata": {},
   "outputs": [],
   "source": [
    "for j in range(20, 40):\n",
    "    ect_data_j = pd.read_csv(f'block_{j}.csv') \n",
    "    ect_data0 = pd.concat([ect_data0,  ect_data_j.groupby('LCLid').median()], ignore_index=False, axis=0)"
   ]
  },
  {
   "cell_type": "code",
   "execution_count": 5,
   "id": "890a78a9",
   "metadata": {},
   "outputs": [],
   "source": [
    "for k in range(40, 60):\n",
    "    ect_data_k = pd.read_csv(f'block_{k}.csv') \n",
    "    ect_data0 = pd.concat([ect_data0,  ect_data_k.groupby('LCLid').median()], ignore_index=False, axis=0)"
   ]
  },
  {
   "cell_type": "code",
   "execution_count": 6,
   "id": "581aaf72",
   "metadata": {},
   "outputs": [],
   "source": [
    "for l in range(60, 80):\n",
    "    ect_data_l = pd.read_csv(f'block_{l}.csv') \n",
    "    ect_data0 = pd.concat([ect_data0,  ect_data_l.groupby('LCLid').median()], ignore_index=False, axis=0)"
   ]
  },
  {
   "cell_type": "code",
   "execution_count": 7,
   "id": "a57fc475",
   "metadata": {},
   "outputs": [],
   "source": [
    "for m in range(80, 100):\n",
    "    ect_data_m = pd.read_csv(f'block_{m}.csv') \n",
    "    ect_data0 = pd.concat([ect_data0,  ect_data_m.groupby('LCLid').median()], ignore_index=False, axis=0)"
   ]
  },
  {
   "cell_type": "code",
   "execution_count": 8,
   "id": "7c92348b",
   "metadata": {},
   "outputs": [],
   "source": [
    "for n in range(100, 112):\n",
    "    ect_data_n = pd.read_csv(f'block_{n}.csv') \n",
    "    ect_data0 = pd.concat([ect_data0,  ect_data_n.groupby('LCLid').median()], ignore_index=False, axis=0)"
   ]
  },
  {
   "cell_type": "code",
   "execution_count": 9,
   "id": "99d5aec2",
   "metadata": {},
   "outputs": [],
   "source": [
    "ect_data0.ffill(inplace = True)\n",
    "User = ect_data0.copy()\n",
    "User.reset_index(inplace = True)"
   ]
  },
  {
   "cell_type": "code",
   "execution_count": 12,
   "id": "0269ffeb",
   "metadata": {},
   "outputs": [],
   "source": [
    "os.chdir('/home/presh/Downloads/Christwin/hhblock_dataset/pickles')"
   ]
  },
  {
   "cell_type": "code",
   "execution_count": 13,
   "id": "eab2024e",
   "metadata": {},
   "outputs": [],
   "source": [
    "with open('data.pickle', 'wb') as fh:\n",
    "    pickle.dump(User, fh)"
   ]
  },
  {
   "cell_type": "code",
   "execution_count": null,
   "id": "398ac470",
   "metadata": {},
   "outputs": [],
   "source": []
  }
 ],
 "metadata": {
  "kernelspec": {
   "display_name": "Python 3 (ipykernel)",
   "language": "python",
   "name": "python3"
  },
  "language_info": {
   "codemirror_mode": {
    "name": "ipython",
    "version": 3
   },
   "file_extension": ".py",
   "mimetype": "text/x-python",
   "name": "python",
   "nbconvert_exporter": "python",
   "pygments_lexer": "ipython3",
   "version": "3.10.6"
  }
 },
 "nbformat": 4,
 "nbformat_minor": 5
}
