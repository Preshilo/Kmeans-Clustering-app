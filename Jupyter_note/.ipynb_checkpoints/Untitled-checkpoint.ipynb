{
 "cells": [
  {
   "cell_type": "code",
   "execution_count": 2,
   "id": "f7e908ed",
   "metadata": {},
   "outputs": [],
   "source": [
    "import os\n",
    "import pandas as pd\n",
    "#import "
   ]
  },
  {
   "cell_type": "code",
   "execution_count": 3,
   "id": "f4a9b21c",
   "metadata": {},
   "outputs": [],
   "source": [
    "os.chdir('/home/presh/Documents')"
   ]
  },
  {
   "cell_type": "code",
   "execution_count": 39,
   "id": "35b699a5",
   "metadata": {},
   "outputs": [],
   "source": [
    "df = pd.read_csv('agri.csv')"
   ]
  },
  {
   "cell_type": "code",
   "execution_count": null,
   "id": "c2d71bab",
   "metadata": {},
   "outputs": [],
   "source": []
  },
  {
   "cell_type": "code",
   "execution_count": 40,
   "id": "6e1961b9",
   "metadata": {
    "scrolled": true
   },
   "outputs": [],
   "source": [
    "df.set_index('Region', inplace = True)"
   ]
  },
  {
   "cell_type": "code",
   "execution_count": 42,
   "id": "5bb5efa2",
   "metadata": {
    "scrolled": true
   },
   "outputs": [],
   "source": [
    "dff = df.loc[['China', 'Italy']]"
   ]
  },
  {
   "cell_type": "code",
   "execution_count": 43,
   "id": "e038acff",
   "metadata": {},
   "outputs": [],
   "source": [
    "dg =dff.transpose().reset_index()"
   ]
  },
  {
   "cell_type": "code",
   "execution_count": 44,
   "id": "b2d3f544",
   "metadata": {
    "scrolled": true
   },
   "outputs": [
    {
     "data": {
      "text/html": [
       "<div>\n",
       "<style scoped>\n",
       "    .dataframe tbody tr th:only-of-type {\n",
       "        vertical-align: middle;\n",
       "    }\n",
       "\n",
       "    .dataframe tbody tr th {\n",
       "        vertical-align: top;\n",
       "    }\n",
       "\n",
       "    .dataframe thead th {\n",
       "        text-align: right;\n",
       "    }\n",
       "</style>\n",
       "<table border=\"1\" class=\"dataframe\">\n",
       "  <thead>\n",
       "    <tr style=\"text-align: right;\">\n",
       "      <th></th>\n",
       "      <th>index</th>\n",
       "      <th>Region</th>\n",
       "      <th>value</th>\n",
       "    </tr>\n",
       "  </thead>\n",
       "  <tbody>\n",
       "    <tr>\n",
       "      <th>0</th>\n",
       "      <td>1961</td>\n",
       "      <td>China</td>\n",
       "      <td>58340740.0</td>\n",
       "    </tr>\n",
       "    <tr>\n",
       "      <th>1</th>\n",
       "      <td>1962</td>\n",
       "      <td>China</td>\n",
       "      <td>60690860.0</td>\n",
       "    </tr>\n",
       "    <tr>\n",
       "      <th>2</th>\n",
       "      <td>1963</td>\n",
       "      <td>China</td>\n",
       "      <td>63942700.0</td>\n",
       "    </tr>\n",
       "    <tr>\n",
       "      <th>3</th>\n",
       "      <td>1964</td>\n",
       "      <td>China</td>\n",
       "      <td>68462610.0</td>\n",
       "    </tr>\n",
       "    <tr>\n",
       "      <th>4</th>\n",
       "      <td>1965</td>\n",
       "      <td>China</td>\n",
       "      <td>74747900.0</td>\n",
       "    </tr>\n",
       "    <tr>\n",
       "      <th>...</th>\n",
       "      <td>...</td>\n",
       "      <td>...</td>\n",
       "      <td>...</td>\n",
       "    </tr>\n",
       "    <tr>\n",
       "      <th>89</th>\n",
       "      <td>2003</td>\n",
       "      <td>Italy</td>\n",
       "      <td>23984610.0</td>\n",
       "    </tr>\n",
       "    <tr>\n",
       "      <th>90</th>\n",
       "      <td>2004</td>\n",
       "      <td>Italy</td>\n",
       "      <td>26710580.0</td>\n",
       "    </tr>\n",
       "    <tr>\n",
       "      <th>91</th>\n",
       "      <td>2005</td>\n",
       "      <td>Italy</td>\n",
       "      <td>26063090.0</td>\n",
       "    </tr>\n",
       "    <tr>\n",
       "      <th>92</th>\n",
       "      <td>2006</td>\n",
       "      <td>Italy</td>\n",
       "      <td>24948040.0</td>\n",
       "    </tr>\n",
       "    <tr>\n",
       "      <th>93</th>\n",
       "      <td>2007</td>\n",
       "      <td>Italy</td>\n",
       "      <td>24706710.0</td>\n",
       "    </tr>\n",
       "  </tbody>\n",
       "</table>\n",
       "<p>94 rows × 3 columns</p>\n",
       "</div>"
      ],
      "text/plain": [
       "   index Region       value\n",
       "0   1961  China  58340740.0\n",
       "1   1962  China  60690860.0\n",
       "2   1963  China  63942700.0\n",
       "3   1964  China  68462610.0\n",
       "4   1965  China  74747900.0\n",
       "..   ...    ...         ...\n",
       "89  2003  Italy  23984610.0\n",
       "90  2004  Italy  26710580.0\n",
       "91  2005  Italy  26063090.0\n",
       "92  2006  Italy  24948040.0\n",
       "93  2007  Italy  24706710.0\n",
       "\n",
       "[94 rows x 3 columns]"
      ]
     },
     "execution_count": 44,
     "metadata": {},
     "output_type": "execute_result"
    }
   ],
   "source": [
    "pd.melt(dg, id_vars = [\"index\"])"
   ]
  },
  {
   "cell_type": "code",
   "execution_count": 46,
   "id": "ab6db482",
   "metadata": {},
   "outputs": [],
   "source": [
    "import numpy as np"
   ]
  },
  {
   "cell_type": "code",
   "execution_count": 50,
   "id": "a9efd006",
   "metadata": {},
   "outputs": [
    {
     "data": {
      "text/plain": [
       "array([[0, 1, 2, 3, 4],\n",
       "       [5, 6, 7, 8, 9]])"
      ]
     },
     "execution_count": 50,
     "metadata": {},
     "output_type": "execute_result"
    }
   ],
   "source": [
    "np.arange(10).reshape((2,5))"
   ]
  },
  {
   "cell_type": "code",
   "execution_count": 1,
   "id": "ed220008",
   "metadata": {},
   "outputs": [],
   "source": [
    "dic = {'a': 1, 'b': 2, 'c' : 3}"
   ]
  },
  {
   "cell_type": "code",
   "execution_count": 13,
   "id": "18982bbf",
   "metadata": {},
   "outputs": [
    {
     "data": {
      "text/plain": [
       "dict_keys(['a', 'b', 'c', 'd'])"
      ]
     },
     "execution_count": 13,
     "metadata": {},
     "output_type": "execute_result"
    }
   ],
   "source": [
    "if 'd' not in dic:\n",
    "    dic['d'] = 111\n",
    "dic.keys()"
   ]
  },
  {
   "cell_type": "code",
   "execution_count": 2,
   "id": "60e5d6a8",
   "metadata": {},
   "outputs": [],
   "source": [
    "a = \"\""
   ]
  },
  {
   "cell_type": "code",
   "execution_count": 3,
   "id": "411ff1bb",
   "metadata": {},
   "outputs": [
    {
     "name": "stdout",
     "output_type": "stream",
     "text": [
      "Nil\n"
     ]
    }
   ],
   "source": [
    "if a != \"\":\n",
    "    print(a)\n",
    "else:\n",
    "    print('Nil')"
   ]
  },
  {
   "cell_type": "code",
   "execution_count": 4,
   "id": "761c6cec",
   "metadata": {},
   "outputs": [],
   "source": [
    "user_id  = a\n",
    "cached_user_id = 'cccc'"
   ]
  },
  {
   "cell_type": "code",
   "execution_count": 7,
   "id": "9a7ab72c",
   "metadata": {},
   "outputs": [
    {
     "ename": "NameError",
     "evalue": "name 'cached_user_id' is not defined",
     "output_type": "error",
     "traceback": [
      "\u001b[0;31m---------------------------------------------------------------------------\u001b[0m",
      "\u001b[0;31mNameError\u001b[0m                                 Traceback (most recent call last)",
      "Cell \u001b[0;32mIn [7], line 10\u001b[0m\n\u001b[1;32m      8\u001b[0m                 \u001b[38;5;28mprint\u001b[39m(\u001b[38;5;124m'\u001b[39m\u001b[38;5;124mnot in\u001b[39m\u001b[38;5;124m'\u001b[39m)\n\u001b[1;32m      9\u001b[0m \u001b[38;5;28;01melse\u001b[39;00m:\n\u001b[0;32m---> 10\u001b[0m     \u001b[38;5;28;01mif\u001b[39;00m cached_user_id \u001b[38;5;241m==\u001b[39m \u001b[38;5;124m'\u001b[39m\u001b[38;5;124mcache\u001b[39m\u001b[38;5;124m'\u001b[39m:\n\u001b[1;32m     11\u001b[0m         \u001b[38;5;28mprint\u001b[39m(cached_user_id)\n\u001b[1;32m     12\u001b[0m     \u001b[38;5;28;01melse\u001b[39;00m:\n",
      "\u001b[0;31mNameError\u001b[0m: name 'cached_user_id' is not defined"
     ]
    }
   ],
   "source": [
    "if user_id != \"\":\n",
    "        if user_id == 'NIL':\n",
    "            print(user_id)\n",
    "        else:\n",
    "            if user_id in ['a', 'b', 'c', 'd']:\n",
    "                print('its in')\n",
    "            else:\n",
    "                print('not in')\n",
    "else:\n",
    "    if cached_user_id == 'cache':\n",
    "        print(cached_user_id)\n",
    "    else:\n",
    "        print(\"There's no cachedr_id\")"
   ]
  },
  {
   "cell_type": "code",
   "execution_count": null,
   "id": "5713b07d",
   "metadata": {},
   "outputs": [],
   "source": []
  }
 ],
 "metadata": {
  "kernelspec": {
   "display_name": "Python 3 (ipykernel)",
   "language": "python",
   "name": "python3"
  },
  "language_info": {
   "codemirror_mode": {
    "name": "ipython",
    "version": 3
   },
   "file_extension": ".py",
   "mimetype": "text/x-python",
   "name": "python",
   "nbconvert_exporter": "python",
   "pygments_lexer": "ipython3",
   "version": "3.10.6"
  }
 },
 "nbformat": 4,
 "nbformat_minor": 5
}
